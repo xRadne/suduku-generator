{
 "cells": [
  {
   "cell_type": "markdown",
   "metadata": {},
   "source": [
    "# Soduku generation using Wave Function Collapse algorithm"
   ]
  },
  {
   "cell_type": "markdown",
   "metadata": {},
   "source": [
    "## Generating a solved suduku puzzle"
   ]
  },
  {
   "cell_type": "code",
   "execution_count": 4,
   "metadata": {},
   "outputs": [
    {
     "name": "stdout",
     "output_type": "stream",
     "text": [
      "Puzzle solved\n",
      "6 4 2 | 5 3 8 | 1 7 9 \n",
      "7 3 8 | 9 6 1 | 5 4 2 \n",
      "9 1 5 | 7 2 4 | 6 8 3 \n",
      "------+-------+------\n",
      "8 2 9 | 3 5 7 | 4 1 6 \n",
      "3 6 4 | 8 1 2 | 9 5 7 \n",
      "1 5 7 | 6 4 9 | 3 2 8 \n",
      "------+-------+------\n",
      "5 8 3 | 4 7 6 | 2 9 1 \n",
      "4 7 1 | 2 9 3 | 8 6 5 \n",
      "2 9 6 | 1 8 5 | 7 3 4 \n"
     ]
    }
   ],
   "source": [
    "import suduku\n",
    "\n",
    "puzzle = None\n",
    "for i in range(100):\n",
    "    puzzle = suduku.generate_solved_puzzle(seed=42)\n",
    "    if suduku.is_solved(puzzle):\n",
    "        print(\"Puzzle solved\")\n",
    "        break\n",
    "    else:\n",
    "        continue\n",
    "\n",
    "if not suduku.is_solved(puzzle):\n",
    "    print(\"Puzzle not solved after 100 tries\")\n",
    "\n",
    "suduku.display_grid(puzzle)"
   ]
  },
  {
   "cell_type": "markdown",
   "metadata": {},
   "source": [
    "## Generate a puzzle with some initial values already set"
   ]
  },
  {
   "cell_type": "markdown",
   "metadata": {},
   "source": [
    "Create an initial grid.\n",
    "\n",
    "All allowed possible values in a cell should be added to the cells set. \n",
    "Defining the value to be used in a cell means setting a set of a single value \n",
    "to that cell"
   ]
  },
  {
   "cell_type": "code",
   "execution_count": 2,
   "metadata": {},
   "outputs": [
    {
     "name": "stdout",
     "output_type": "stream",
     "text": [
      "Initial grid:\n",
      "1 2 3 | 4 5 6 | 7 8 9 \n",
      "x x x | x x x | x x x \n",
      "x x x | x x x | x x x \n",
      "------+-------+------\n",
      "x x x | x x x | x x x \n",
      "x x x | x x x | x x x \n",
      "x x x | x x x | x x x \n",
      "------+-------+------\n",
      "x x x | x x x | x x x \n",
      "x x x | x x x | x x x \n",
      "x x x | x x x | x x x \n"
     ]
    }
   ],
   "source": [
    "# Initialize a grid with all possibilities {1-9} for each cell\n",
    "initial_grid = suduku.generate_initial_grid()\n",
    "\n",
    "# Set some predetermined values in the grid\n",
    "for i in range(9):\n",
    "    initial_grid[0][i] = { i+1 }\n",
    "\n",
    "print(\"Initial grid:\")\n",
    "suduku.display_grid(initial_grid)\n"
   ]
  },
  {
   "cell_type": "code",
   "execution_count": 3,
   "metadata": {},
   "outputs": [
    {
     "name": "stdout",
     "output_type": "stream",
     "text": [
      "Solved puzzle with the predetermined values kept:\n",
      "1 2 3 | 4 5 6 | 7 8 9 \n",
      "4 8 5 | 1 9 7 | 6 2 3 \n",
      "9 7 6 | 3 2 8 | 1 5 4 \n",
      "------+-------+------\n",
      "7 3 2 | 9 8 1 | 5 4 6 \n",
      "6 1 9 | 7 4 5 | 2 3 8 \n",
      "5 4 8 | 6 3 2 | 9 1 7 \n",
      "------+-------+------\n",
      "3 5 7 | 8 1 9 | 4 6 2 \n",
      "2 9 4 | 5 6 3 | 8 7 1 \n",
      "8 6 1 | 2 7 4 | 3 9 5 \n"
     ]
    }
   ],
   "source": [
    "for i in range(100):\n",
    "    puzzle = suduku.generate_solved_puzzle(initial_grid, seed=42)\n",
    "    if suduku.is_solved(puzzle):\n",
    "        break\n",
    "\n",
    "print(\"Solved puzzle with the predetermined values kept:\")\n",
    "suduku.display_grid(puzzle)"
   ]
  }
 ],
 "metadata": {
  "kernelspec": {
   "display_name": "Python 3.9.13 64-bit (windows store)",
   "language": "python",
   "name": "python3"
  },
  "language_info": {
   "codemirror_mode": {
    "name": "ipython",
    "version": 3
   },
   "file_extension": ".py",
   "mimetype": "text/x-python",
   "name": "python",
   "nbconvert_exporter": "python",
   "pygments_lexer": "ipython3",
   "version": "3.9.13"
  },
  "orig_nbformat": 4,
  "vscode": {
   "interpreter": {
    "hash": "3e82e0383f2d5e14efd7e092b5b1c4897ef81c7480409800ede6ea415b0df85c"
   }
  }
 },
 "nbformat": 4,
 "nbformat_minor": 2
}
